{
 "cells": [
  {
   "cell_type": "code",
   "execution_count": 1,
   "id": "9d16e85f-db05-4c13-a1e7-f3a71fa27a04",
   "metadata": {},
   "outputs": [],
   "source": [
    "import pandas as pd\n",
    "import datetime as dt\n",
    "import requests\n",
    "import bs4"
   ]
  },
  {
   "cell_type": "code",
   "execution_count": 2,
   "id": "b03d7c13-a7c1-402c-8382-1cb4d39555c2",
   "metadata": {},
   "outputs": [],
   "source": [
    "targetUrl =\"https://www.samsung.com/sec\""
   ]
  },
  {
   "cell_type": "code",
   "execution_count": 3,
   "id": "e38fecb0-4c7a-4dbf-b097-cbef4c016395",
   "metadata": {},
   "outputs": [],
   "source": [
    "# 웹페이지 요청(200 : 정상) html소스 가져오기 \n",
    "resp = requests.get(targetUrl)\n",
    "html = resp.text"
   ]
  },
  {
   "cell_type": "code",
   "execution_count": 4,
   "id": "8a8cad83-7b4a-45d1-aba1-56427e8c0048",
   "metadata": {},
   "outputs": [],
   "source": [
    "# 페이지 소스를 태그정보에 맞게 이쁘게 추출한다\n",
    "bs = bs4.BeautifulSoup(html,'html.parser')"
   ]
  },
  {
   "cell_type": "code",
   "execution_count": 5,
   "id": "3f760438-5ed0-41dc-877d-a17858168d6b",
   "metadata": {
    "tags": []
   },
   "outputs": [
    {
     "name": "stdout",
     "output_type": "stream",
     "text": [
      "<li class=\"over\">\n",
      "<h3>\n",
      "<a href=\"javascript:;\">제품</a>\n",
      "</h3>\n",
      "<ul>\n",
      "<li><a data-omni=\"product_smartphones\" href=\"https://www.samsung.com/sec/galaxy/home/\">갤럭시</a></li>\n",
      "<li><a data-omni=\"product_smartphones\" href=\"https://www.samsung.com/sec/smartphones/galaxy-s/\">스마트폰</a></li>\n",
      "<li><a data-omni=\"product_tablets\" href=\"https://www.samsung.com/sec/tablets/galaxy-tabs/\">태블릿</a></li>\n",
      "<li><a data-omni=\"product_watches\" href=\"https://www.samsung.com/sec/watches/galaxy-watch-active/\">워치</a></li>\n",
      "<li><a data-omni=\"product_buds\" href=\"https://www.samsung.com/sec/buds/galaxy-buds-pro/\">버즈</a></li>\n",
      "<!-- s :  footer 영역 수정 jiwon0.id 22.03.22-->\n",
      "<li><a data-omni=\"product_tablets\" href=\"https://www.samsung.com/sec/pc/galaxybook/\">갤럭시북</a></li>\n",
      "<li><a data-omni=\"product_printers\" href=\"https://www.samsung.com/sec/printers/laser-multifunction/\">프린터</a></li>\n",
      "<li><a data-omni=\"product_tvs\" href=\"https://www.samsung.com/sec/tvs/\">TV</a></li>\n",
      "<!-- e :  footer 영역 수정 jiwon0.id 22.03.22-->\n",
      "<li><a data-omni=\"product_lifestyletv\" href=\"https://www.samsung.com/sec/lifestyletv/home/\">Lifestyle TV</a></li>\n",
      "<li><a data-omni=\"product_bespoke\" href=\"https://www.samsung.com/sec/bespoke/home/\">BESPOKE</a></li>\n",
      "</ul>\n",
      "<ul>\n",
      "<li><a data-omni=\"product_refrigerators\" href=\"https://www.samsung.com/sec/refrigerators/bespoke-infinite-line/\">냉장고</a></li>\n",
      "<li><a data-omni=\"product_kimchi-refrigerators\" href=\"https://www.samsung.com/sec/kimchi-refrigerators/bespoke-kimchi-plus-infinite-line/\">김치냉장고</a></li>\n",
      "<!-- 25164 :  footer 영역 수정 BEGIN -->\n",
      "<li><a data-omni=\"product_dishwashers\" href=\"https://www.samsung.com/sec/dishwashers/bespoke-dishwashers/\">식기세척기</a></li>\n",
      "<li><a data-omni=\"product_smartphones\" href=\"https://www.samsung.com/sec/electric-range/bespoke-induction/\">전기레인지</a></li>\n",
      "<li><a data-omni=\"product_washing-machines\" href=\"https://www.samsung.com/sec/washing-machines/grande-ai/\">세탁기</a></li>\n",
      "<li><a data-omni=\"product_dryers\" href=\"https://www.samsung.com/sec/dryers/grande-ai/\">건조기</a></li>\n",
      "<li><a data-omni=\"product_smartphones\" href=\"https://www.samsung.com/sec/airdresser/bespoke-airdresser/\">에어드레서</a></li>\n",
      "<li><a data-omni=\"product_air-conditioners\" href=\"https://www.samsung.com/sec/air-conditioners/gallery/\">에어컨</a></li>\n",
      "<li><a data-omni=\"product_air-cleaners\" href=\"https://www.samsung.com/sec/air-cleaners/bespoke-cube/\">공기청정기</a></li>\n",
      "<li><a data-omni=\"product_vacuum-cleaners\" href=\"https://www.samsung.com/sec/vacuum-cleaners/bespoke-jet/\">청소기</a></li>\n",
      "<!-- 25164 :  footer 영역 수정 END -->\n",
      "</ul>\n",
      "</li>\n"
     ]
    }
   ],
   "source": [
    "# find -> find로 데이터를 접근한다. li태그 속성정보로 범위를 좁힌다.\n",
    "targetDivTags = bs.find(name = \"li\" , attrs = {\"class\" : \"over\"})\n",
    "print(targetDivTags)"
   ]
  },
  {
   "cell_type": "code",
   "execution_count": 6,
   "id": "c6a5cf60-fc2c-4de4-a6b1-a1e5cd4540ca",
   "metadata": {
    "tags": []
   },
   "outputs": [],
   "source": [
    "# 최종데이터수집을 위해 findAll로 a가 쓰여져있는 데이터 접근\n",
    "aTag = targetDivTags.findAll(name = \"a\")\n"
   ]
  },
  {
   "cell_type": "code",
   "execution_count": 7,
   "id": "009a5cd0-9cd6-473c-ab99-177afbedc3ac",
   "metadata": {},
   "outputs": [],
   "source": [
    "# 이름과 url을 담아줄 빈 리스트 생성\n",
    "nameList = []\n",
    "urlList = []\n",
    "\n",
    "# for문 사용 시 aTag 범위 변수지정 \n",
    "lenA=len(aTag)"
   ]
  },
  {
   "cell_type": "code",
   "execution_count": 8,
   "id": "a9907db3-22c6-49d1-b3a6-8e3fd5b05b23",
   "metadata": {},
   "outputs": [],
   "source": [
    "for i in range(0, lenA):\n",
    "    linkAttr = aTag[i].attrs['href']\n",
    "    linkText = aTag[i].text\n",
    "  \n",
    "    urlList.append(linkAttr)\n",
    "    nameList.append(linkText)"
   ]
  },
  {
   "cell_type": "code",
   "execution_count": 9,
   "id": "45de4348-35d7-4d68-bbf1-9190fcc8ff28",
   "metadata": {
    "tags": []
   },
   "outputs": [],
   "source": [
    "finalDf = pd.DataFrame ( zip( urlList, nameList ), columns = ['Url','제품이름'] )"
   ]
  },
  {
   "cell_type": "code",
   "execution_count": 10,
   "id": "50806c38-d43e-44b8-aaeb-eb3c733832bb",
   "metadata": {},
   "outputs": [
    {
     "data": {
      "text/html": [
       "<div>\n",
       "<style scoped>\n",
       "    .dataframe tbody tr th:only-of-type {\n",
       "        vertical-align: middle;\n",
       "    }\n",
       "\n",
       "    .dataframe tbody tr th {\n",
       "        vertical-align: top;\n",
       "    }\n",
       "\n",
       "    .dataframe thead th {\n",
       "        text-align: right;\n",
       "    }\n",
       "</style>\n",
       "<table border=\"1\" class=\"dataframe\">\n",
       "  <thead>\n",
       "    <tr style=\"text-align: right;\">\n",
       "      <th></th>\n",
       "      <th>Url</th>\n",
       "      <th>제품이름</th>\n",
       "    </tr>\n",
       "  </thead>\n",
       "  <tbody>\n",
       "    <tr>\n",
       "      <th>0</th>\n",
       "      <td>javascript:;</td>\n",
       "      <td>제품</td>\n",
       "    </tr>\n",
       "    <tr>\n",
       "      <th>1</th>\n",
       "      <td>https://www.samsung.com/sec/galaxy/home/</td>\n",
       "      <td>갤럭시</td>\n",
       "    </tr>\n",
       "    <tr>\n",
       "      <th>2</th>\n",
       "      <td>https://www.samsung.com/sec/smartphones/galaxy-s/</td>\n",
       "      <td>스마트폰</td>\n",
       "    </tr>\n",
       "    <tr>\n",
       "      <th>3</th>\n",
       "      <td>https://www.samsung.com/sec/tablets/galaxy-tabs/</td>\n",
       "      <td>태블릿</td>\n",
       "    </tr>\n",
       "    <tr>\n",
       "      <th>4</th>\n",
       "      <td>https://www.samsung.com/sec/watches/galaxy-wat...</td>\n",
       "      <td>워치</td>\n",
       "    </tr>\n",
       "    <tr>\n",
       "      <th>5</th>\n",
       "      <td>https://www.samsung.com/sec/buds/galaxy-buds-pro/</td>\n",
       "      <td>버즈</td>\n",
       "    </tr>\n",
       "    <tr>\n",
       "      <th>6</th>\n",
       "      <td>https://www.samsung.com/sec/pc/galaxybook/</td>\n",
       "      <td>갤럭시북</td>\n",
       "    </tr>\n",
       "    <tr>\n",
       "      <th>7</th>\n",
       "      <td>https://www.samsung.com/sec/printers/laser-mul...</td>\n",
       "      <td>프린터</td>\n",
       "    </tr>\n",
       "    <tr>\n",
       "      <th>8</th>\n",
       "      <td>https://www.samsung.com/sec/tvs/</td>\n",
       "      <td>TV</td>\n",
       "    </tr>\n",
       "    <tr>\n",
       "      <th>9</th>\n",
       "      <td>https://www.samsung.com/sec/lifestyletv/home/</td>\n",
       "      <td>Lifestyle TV</td>\n",
       "    </tr>\n",
       "    <tr>\n",
       "      <th>10</th>\n",
       "      <td>https://www.samsung.com/sec/bespoke/home/</td>\n",
       "      <td>BESPOKE</td>\n",
       "    </tr>\n",
       "    <tr>\n",
       "      <th>11</th>\n",
       "      <td>https://www.samsung.com/sec/refrigerators/besp...</td>\n",
       "      <td>냉장고</td>\n",
       "    </tr>\n",
       "    <tr>\n",
       "      <th>12</th>\n",
       "      <td>https://www.samsung.com/sec/kimchi-refrigerato...</td>\n",
       "      <td>김치냉장고</td>\n",
       "    </tr>\n",
       "    <tr>\n",
       "      <th>13</th>\n",
       "      <td>https://www.samsung.com/sec/dishwashers/bespok...</td>\n",
       "      <td>식기세척기</td>\n",
       "    </tr>\n",
       "    <tr>\n",
       "      <th>14</th>\n",
       "      <td>https://www.samsung.com/sec/electric-range/bes...</td>\n",
       "      <td>전기레인지</td>\n",
       "    </tr>\n",
       "    <tr>\n",
       "      <th>15</th>\n",
       "      <td>https://www.samsung.com/sec/washing-machines/g...</td>\n",
       "      <td>세탁기</td>\n",
       "    </tr>\n",
       "    <tr>\n",
       "      <th>16</th>\n",
       "      <td>https://www.samsung.com/sec/dryers/grande-ai/</td>\n",
       "      <td>건조기</td>\n",
       "    </tr>\n",
       "    <tr>\n",
       "      <th>17</th>\n",
       "      <td>https://www.samsung.com/sec/airdresser/bespoke...</td>\n",
       "      <td>에어드레서</td>\n",
       "    </tr>\n",
       "    <tr>\n",
       "      <th>18</th>\n",
       "      <td>https://www.samsung.com/sec/air-conditioners/g...</td>\n",
       "      <td>에어컨</td>\n",
       "    </tr>\n",
       "    <tr>\n",
       "      <th>19</th>\n",
       "      <td>https://www.samsung.com/sec/air-cleaners/bespo...</td>\n",
       "      <td>공기청정기</td>\n",
       "    </tr>\n",
       "    <tr>\n",
       "      <th>20</th>\n",
       "      <td>https://www.samsung.com/sec/vacuum-cleaners/be...</td>\n",
       "      <td>청소기</td>\n",
       "    </tr>\n",
       "  </tbody>\n",
       "</table>\n",
       "</div>"
      ],
      "text/plain": [
       "                                                  Url          제품이름\n",
       "0                                        javascript:;            제품\n",
       "1            https://www.samsung.com/sec/galaxy/home/           갤럭시\n",
       "2   https://www.samsung.com/sec/smartphones/galaxy-s/          스마트폰\n",
       "3    https://www.samsung.com/sec/tablets/galaxy-tabs/           태블릿\n",
       "4   https://www.samsung.com/sec/watches/galaxy-wat...            워치\n",
       "5   https://www.samsung.com/sec/buds/galaxy-buds-pro/            버즈\n",
       "6          https://www.samsung.com/sec/pc/galaxybook/          갤럭시북\n",
       "7   https://www.samsung.com/sec/printers/laser-mul...           프린터\n",
       "8                    https://www.samsung.com/sec/tvs/            TV\n",
       "9       https://www.samsung.com/sec/lifestyletv/home/  Lifestyle TV\n",
       "10          https://www.samsung.com/sec/bespoke/home/       BESPOKE\n",
       "11  https://www.samsung.com/sec/refrigerators/besp...           냉장고\n",
       "12  https://www.samsung.com/sec/kimchi-refrigerato...         김치냉장고\n",
       "13  https://www.samsung.com/sec/dishwashers/bespok...         식기세척기\n",
       "14  https://www.samsung.com/sec/electric-range/bes...         전기레인지\n",
       "15  https://www.samsung.com/sec/washing-machines/g...           세탁기\n",
       "16      https://www.samsung.com/sec/dryers/grande-ai/           건조기\n",
       "17  https://www.samsung.com/sec/airdresser/bespoke...         에어드레서\n",
       "18  https://www.samsung.com/sec/air-conditioners/g...           에어컨\n",
       "19  https://www.samsung.com/sec/air-cleaners/bespo...         공기청정기\n",
       "20  https://www.samsung.com/sec/vacuum-cleaners/be...           청소기"
      ]
     },
     "execution_count": 10,
     "metadata": {},
     "output_type": "execute_result"
    }
   ],
   "source": [
    "finalDf"
   ]
  },
  {
   "cell_type": "code",
   "execution_count": 11,
   "id": "49b4b9d3-04b6-4bad-b450-5a72dea64f38",
   "metadata": {},
   "outputs": [],
   "source": [
    "currentData = dt.datetime.now()\n",
    "timelog = \"_{}_{}_{}\".format(currentData.hour,\n",
    "                          currentData.minute,\n",
    "                          currentData.second)\n",
    "finalDf.to_csv(\"../dataset/samsung_scrapy{}.txt\".format(timelog), encoding = \"ms949\")"
   ]
  },
  {
   "cell_type": "code",
   "execution_count": null,
   "id": "1d9d33f1-0dff-4674-a9e0-6d89d9ca8f46",
   "metadata": {},
   "outputs": [],
   "source": []
  },
  {
   "cell_type": "code",
   "execution_count": null,
   "id": "389a2086-46f2-4554-b3fe-3f58c4db9e41",
   "metadata": {
    "jupyter": {
     "source_hidden": true
    },
    "tags": []
   },
   "outputs": [],
   "source": []
  }
 ],
 "metadata": {
  "kernelspec": {
   "display_name": "Python 3 (ipykernel)",
   "language": "python",
   "name": "python3"
  },
  "language_info": {
   "codemirror_mode": {
    "name": "ipython",
    "version": 3
   },
   "file_extension": ".py",
   "mimetype": "text/x-python",
   "name": "python",
   "nbconvert_exporter": "python",
   "pygments_lexer": "ipython3",
   "version": "3.9.7"
  }
 },
 "nbformat": 4,
 "nbformat_minor": 5
}
